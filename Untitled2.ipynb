{
 "cells": [
  {
   "cell_type": "markdown",
   "id": "cc3766e0-74ef-41a2-9c25-692ec2dc363f",
   "metadata": {},
   "source": [
    "chapter 14"
   ]
  },
  {
   "cell_type": "markdown",
   "id": "18b62f60-f3ef-4398-ac5a-57cf6fd40ed1",
   "metadata": {},
   "source": [
    "# programming excersises 2."
   ]
  },
  {
   "cell_type": "markdown",
   "id": "1283c5f8-13a6-43f4-8f30-168f0d13f921",
   "metadata": {},
   "source": [
    "2. write a program that creates a databases named phonebook.db. the database should have a table named Entries, with columns for a persons name and phone number. next, write a CRUD application that lets the user add rows to the Entries table, look up a persons phone number, change a persons phone number, and delete specified rows."
   ]
  },
  {
   "cell_type": "code",
   "execution_count": null,
   "id": "7ab32e12-7b48-4e9d-997b-2f5e20729964",
   "metadata": {},
   "outputs": [],
   "source": []
  }
 ],
 "metadata": {
  "kernelspec": {
   "display_name": "anaconda-panel-2023.05-py310",
   "language": "python",
   "name": "conda-env-anaconda-panel-2023.05-py310-py"
  },
  "language_info": {
   "codemirror_mode": {
    "name": "ipython",
    "version": 3
   },
   "file_extension": ".py",
   "mimetype": "text/x-python",
   "name": "python",
   "nbconvert_exporter": "python",
   "pygments_lexer": "ipython3",
   "version": "3.11.5"
  }
 },
 "nbformat": 4,
 "nbformat_minor": 5
}
